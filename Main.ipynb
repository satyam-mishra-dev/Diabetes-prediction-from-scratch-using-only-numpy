{
 "cells": [
  {
   "cell_type": "code",
   "execution_count": 1,
   "id": "def2e306",
   "metadata": {
    "_cell_guid": "b1076dfc-b9ad-4769-8c92-a6c4dae69d19",
    "_uuid": "8f2839f25d086af736a60e9eeb907d3b93b6e0e5",
    "execution": {
     "iopub.execute_input": "2025-10-31T15:34:55.545629Z",
     "iopub.status.busy": "2025-10-31T15:34:55.545051Z",
     "iopub.status.idle": "2025-10-31T15:34:57.750788Z",
     "shell.execute_reply": "2025-10-31T15:34:57.749637Z"
    },
    "papermill": {
     "duration": 2.2132,
     "end_time": "2025-10-31T15:34:57.752586",
     "exception": false,
     "start_time": "2025-10-31T15:34:55.539386",
     "status": "completed"
    },
    "tags": []
   },
   "outputs": [
    {
     "name": "stdout",
     "output_type": "stream",
     "text": [
      "/kaggle/input/pima-indians-diabetes-database/diabetes.csv\n"
     ]
    }
   ],
   "source": [
    "# This Python 3 environment comes with many helpful analytics libraries installed\n",
    "# It is defined by the kaggle/python Docker image: https://github.com/kaggle/docker-python\n",
    "# For example, here's several helpful packages to load\n",
    "\n",
    "import numpy as np # linear algebra\n",
    "import pandas as pd # data processing, CSV file I/O (e.g. pd.read_csv)\n",
    "\n",
    "# Input data files are available in the read-only \"../input/\" directory\n",
    "# For example, running this (by clicking run or pressing Shift+Enter) will list all files under the input directory\n",
    "\n",
    "import os\n",
    "for dirname, _, filenames in os.walk('/kaggle/input/pima-indians-diabetes-database'):\n",
    "    for filename in filenames:\n",
    "        print(os.path.join(dirname, filename))\n",
    "\n",
    "# You can write up to 20GB to the current directory (/kaggle/working/) that gets preserved as output when you create a version using \"Save & Run All\" \n",
    "# You can also write temporary files to /kaggle/temp/, but they won't be saved outside of the current session"
   ]
  },
  {
   "cell_type": "code",
   "execution_count": 2,
   "id": "a3d62642",
   "metadata": {
    "execution": {
     "iopub.execute_input": "2025-10-31T15:34:57.760403Z",
     "iopub.status.busy": "2025-10-31T15:34:57.759946Z",
     "iopub.status.idle": "2025-10-31T15:34:57.789290Z",
     "shell.execute_reply": "2025-10-31T15:34:57.788289Z"
    },
    "papermill": {
     "duration": 0.035154,
     "end_time": "2025-10-31T15:34:57.791125",
     "exception": false,
     "start_time": "2025-10-31T15:34:57.755971",
     "status": "completed"
    },
    "tags": []
   },
   "outputs": [],
   "source": [
    "dataset = pd.read_csv('/kaggle/input/pima-indians-diabetes-database/diabetes.csv')"
   ]
  },
  {
   "cell_type": "code",
   "execution_count": 3,
   "id": "636d98ca",
   "metadata": {
    "execution": {
     "iopub.execute_input": "2025-10-31T15:34:57.798623Z",
     "iopub.status.busy": "2025-10-31T15:34:57.798292Z",
     "iopub.status.idle": "2025-10-31T15:34:57.840167Z",
     "shell.execute_reply": "2025-10-31T15:34:57.838801Z"
    },
    "papermill": {
     "duration": 0.048002,
     "end_time": "2025-10-31T15:34:57.842307",
     "exception": false,
     "start_time": "2025-10-31T15:34:57.794305",
     "status": "completed"
    },
    "tags": []
   },
   "outputs": [
    {
     "name": "stdout",
     "output_type": "stream",
     "text": [
      "<class 'pandas.core.frame.DataFrame'>\n",
      "RangeIndex: 768 entries, 0 to 767\n",
      "Data columns (total 9 columns):\n",
      " #   Column                    Non-Null Count  Dtype  \n",
      "---  ------                    --------------  -----  \n",
      " 0   Pregnancies               768 non-null    int64  \n",
      " 1   Glucose                   768 non-null    int64  \n",
      " 2   BloodPressure             768 non-null    int64  \n",
      " 3   SkinThickness             768 non-null    int64  \n",
      " 4   Insulin                   768 non-null    int64  \n",
      " 5   BMI                       768 non-null    float64\n",
      " 6   DiabetesPedigreeFunction  768 non-null    float64\n",
      " 7   Age                       768 non-null    int64  \n",
      " 8   Outcome                   768 non-null    int64  \n",
      "dtypes: float64(2), int64(7)\n",
      "memory usage: 54.1 KB\n"
     ]
    }
   ],
   "source": [
    "dataset.info()"
   ]
  },
  {
   "cell_type": "code",
   "execution_count": 4,
   "id": "da3d2232",
   "metadata": {
    "execution": {
     "iopub.execute_input": "2025-10-31T15:34:57.849986Z",
     "iopub.status.busy": "2025-10-31T15:34:57.849632Z",
     "iopub.status.idle": "2025-10-31T15:35:00.300237Z",
     "shell.execute_reply": "2025-10-31T15:35:00.298640Z"
    },
    "papermill": {
     "duration": 2.456627,
     "end_time": "2025-10-31T15:35:00.302279",
     "exception": false,
     "start_time": "2025-10-31T15:34:57.845652",
     "status": "completed"
    },
    "tags": []
   },
   "outputs": [
    {
     "data": {
      "text/plain": [
       "((537, 8), (537,), (231, 8), (231,))"
      ]
     },
     "execution_count": 4,
     "metadata": {},
     "output_type": "execute_result"
    }
   ],
   "source": [
    "from sklearn.model_selection import train_test_split\n",
    "X = dataset.drop('Outcome', axis=1)\n",
    "Y= dataset['Outcome']\n",
    "X , X_test , Y, Y_test = train_test_split(X , Y,test_size=0.3, random_state=42)\n",
    "X.shape , Y.shape , X_test.shape , Y_test.shape"
   ]
  },
  {
   "cell_type": "markdown",
   "id": "c98a3910",
   "metadata": {
    "papermill": {
     "duration": 0.003217,
     "end_time": "2025-10-31T15:35:00.308882",
     "exception": false,
     "start_time": "2025-10-31T15:35:00.305665",
     "status": "completed"
    },
    "tags": []
   },
   "source": [
    "**FEATURE SCALING**"
   ]
  },
  {
   "cell_type": "code",
   "execution_count": 5,
   "id": "0ce5963c",
   "metadata": {
    "execution": {
     "iopub.execute_input": "2025-10-31T15:35:00.316713Z",
     "iopub.status.busy": "2025-10-31T15:35:00.316274Z",
     "iopub.status.idle": "2025-10-31T15:35:00.340820Z",
     "shell.execute_reply": "2025-10-31T15:35:00.339076Z"
    },
    "papermill": {
     "duration": 0.031128,
     "end_time": "2025-10-31T15:35:00.343374",
     "exception": false,
     "start_time": "2025-10-31T15:35:00.312246",
     "status": "completed"
    },
    "tags": []
   },
   "outputs": [
    {
     "name": "stdout",
     "output_type": "stream",
     "text": [
      "Pregnancies                 6.615854e-17\n",
      "Glucose                     2.083994e-16\n",
      "BloodPressure               1.885518e-16\n",
      "SkinThickness               7.277440e-17\n",
      "Insulin                    -4.631098e-17\n",
      "BMI                        -5.524238e-16\n",
      "DiabetesPedigreeFunction   -9.923781e-17\n",
      "Age                        -2.480945e-16\n",
      "dtype: float64\n",
      "Pregnancies                 1.0\n",
      "Glucose                     1.0\n",
      "BloodPressure               1.0\n",
      "SkinThickness               1.0\n",
      "Insulin                     1.0\n",
      "BMI                         1.0\n",
      "DiabetesPedigreeFunction    1.0\n",
      "Age                         1.0\n",
      "dtype: float64\n",
      "Pregnancies                 0.121155\n",
      "Glucose                     0.004669\n",
      "BloodPressure              -0.106636\n",
      "SkinThickness               0.022434\n",
      "Insulin                    -0.001059\n",
      "BMI                         0.007408\n",
      "DiabetesPedigreeFunction    0.019031\n",
      "Age                         0.047387\n",
      "dtype: float64\n",
      "Pregnancies                 1.101151\n",
      "Glucose                     0.962703\n",
      "BloodPressure               1.214041\n",
      "SkinThickness               1.096666\n",
      "Insulin                     1.002295\n",
      "BMI                         1.110075\n",
      "DiabetesPedigreeFunction    0.891998\n",
      "Age                         1.021315\n",
      "dtype: float64\n"
     ]
    }
   ],
   "source": [
    "mean = np.mean(X, axis=0)\n",
    "std = np.std(X, axis=0)\n",
    "std[std == 0] = 1\n",
    "X_scaled = (X - mean) / std\n",
    "X_test_scaled = (X_test - mean) / std\n",
    "print(np.mean(X_scaled, axis=0))   # should be near 0\n",
    "print(np.std(X_scaled, axis=0))    # should be near 1\n",
    "print(np.mean(X_test_scaled, axis=0))   # should also be close to 0\n",
    "print(np.std(X_test_scaled, axis=0))    # close to 1, but not exactly\n"
   ]
  },
  {
   "cell_type": "markdown",
   "id": "b208efb3",
   "metadata": {
    "papermill": {
     "duration": 0.003006,
     "end_time": "2025-10-31T15:35:00.350048",
     "exception": false,
     "start_time": "2025-10-31T15:35:00.347042",
     "status": "completed"
    },
    "tags": []
   },
   "source": [
    "**Initialize Parameters**"
   ]
  },
  {
   "cell_type": "code",
   "execution_count": 6,
   "id": "82b0286e",
   "metadata": {
    "execution": {
     "iopub.execute_input": "2025-10-31T15:35:00.358718Z",
     "iopub.status.busy": "2025-10-31T15:35:00.358324Z",
     "iopub.status.idle": "2025-10-31T15:35:00.365022Z",
     "shell.execute_reply": "2025-10-31T15:35:00.363958Z"
    },
    "papermill": {
     "duration": 0.013222,
     "end_time": "2025-10-31T15:35:00.366776",
     "exception": false,
     "start_time": "2025-10-31T15:35:00.353554",
     "status": "completed"
    },
    "tags": []
   },
   "outputs": [
    {
     "name": "stdout",
     "output_type": "stream",
     "text": [
      "8\n"
     ]
    }
   ],
   "source": [
    "n_samples, n_features= X.shape\n",
    "print(n_features)\n",
    "w = np.zeros((n_features, 1))\n",
    "b = 0"
   ]
  },
  {
   "cell_type": "markdown",
   "id": "ded8846a",
   "metadata": {
    "papermill": {
     "duration": 0.003286,
     "end_time": "2025-10-31T15:35:00.374116",
     "exception": false,
     "start_time": "2025-10-31T15:35:00.370830",
     "status": "completed"
    },
    "tags": []
   },
   "source": [
    "**SIGMOID FUNCTION ( 0,1 RANGER )**"
   ]
  },
  {
   "cell_type": "code",
   "execution_count": 7,
   "id": "7496a077",
   "metadata": {
    "execution": {
     "iopub.execute_input": "2025-10-31T15:35:00.381980Z",
     "iopub.status.busy": "2025-10-31T15:35:00.381588Z",
     "iopub.status.idle": "2025-10-31T15:35:00.393535Z",
     "shell.execute_reply": "2025-10-31T15:35:00.391986Z"
    },
    "papermill": {
     "duration": 0.017959,
     "end_time": "2025-10-31T15:35:00.395360",
     "exception": false,
     "start_time": "2025-10-31T15:35:00.377401",
     "status": "completed"
    },
    "tags": []
   },
   "outputs": [],
   "source": [
    "import numpy as np\n",
    "\n",
    "class LogisticRegression:    \n",
    "    def __init__(self, learning_rate=0.05, n_iterations=5000, lambda_=0.1, threshold=0.45):\n",
    "        self.lr = learning_rate\n",
    "        self.n_iters = n_iterations\n",
    "        self.lambda_ = lambda_\n",
    "        self.threshold = threshold\n",
    "        self.W = None\n",
    "        self.b = None\n",
    "        self.cost = []\n",
    "    def _sigmoid(self, z):\n",
    "        z = np.clip(z, -500, 500)   # prevents overflow\n",
    "        return 1 / (1 + np.exp(-z))\n",
    "\n",
    "    def fit(self, X, Y):\n",
    "        Y = Y.reshape(-1, 1)\n",
    "        n_samples, n_features = X.shape\n",
    "        self.W = np.random.randn(n_features, 1) * 0.01\n",
    "        self.b = np.random.randn() * 0.01\n",
    "        for i in range(self.n_iters):\n",
    "            Z = np.dot(X, self.W) + self.b\n",
    "            y_hat = self._sigmoid(Z)\n",
    "            dZ = y_hat - Y\n",
    "            dW = (1/n_samples) * (np.dot(X.T, dZ) + self.lambda_ * self.W)\n",
    "            db = (1/n_samples) * np.sum(dZ)\n",
    "            self.W = self.W - self.lr * dW\n",
    "            self.b = self.b - self.lr * db\n",
    "            if i % 100 == 0:\n",
    "                y_hat_safe = np.clip(y_hat, 1e-10, 1 - 1e-10) \n",
    "                cost = (-1/n_samples) * np.sum(Y * np.log(y_hat_safe) + (1 - Y) * np.log(1 - y_hat_safe)) \\\n",
    "                       + (self.lambda_ / (2 * n_samples)) * np.sum(self.W**2)\n",
    "                self.cost.append(cost)\n",
    "\n",
    "    def predict(self, X):\n",
    "        Z = np.dot(X, self.W) + self.b\n",
    "        probabilities = self._sigmoid(Z)\n",
    "        y_predicted_cls = np.where(probabilities >= self.threshold, 1, 0)\n",
    "        return y_predicted_cls.flatten()"
   ]
  },
  {
   "cell_type": "code",
   "execution_count": 8,
   "id": "021424ce",
   "metadata": {
    "execution": {
     "iopub.execute_input": "2025-10-31T15:35:00.403977Z",
     "iopub.status.busy": "2025-10-31T15:35:00.403617Z",
     "iopub.status.idle": "2025-10-31T15:35:04.027334Z",
     "shell.execute_reply": "2025-10-31T15:35:04.025014Z"
    },
    "papermill": {
     "duration": 3.630039,
     "end_time": "2025-10-31T15:35:04.029239",
     "exception": false,
     "start_time": "2025-10-31T15:35:00.399200",
     "status": "completed"
    },
    "tags": []
   },
   "outputs": [
    {
     "name": "stdout",
     "output_type": "stream",
     "text": [
      "Accuracy: 73.59%\n"
     ]
    }
   ],
   "source": [
    "Y = Y.values\n",
    "Y_test = Y_test.values\n",
    "model = LogisticRegression(learning_rate=0.05, n_iterations=8000, lambda_=0.01, threshold=0.5)\n",
    "model.fit(X_scaled, Y)\n",
    "y_pred = model.predict(X_test_scaled)\n",
    "accuracy = np.mean(y_pred == Y_test) * 100\n",
    "print(f\"Accuracy: {accuracy:.2f}%\")"
   ]
  },
  {
   "cell_type": "code",
   "execution_count": 9,
   "id": "d5a1eba2",
   "metadata": {
    "execution": {
     "iopub.execute_input": "2025-10-31T15:35:04.042273Z",
     "iopub.status.busy": "2025-10-31T15:35:04.040084Z",
     "iopub.status.idle": "2025-10-31T15:35:04.362657Z",
     "shell.execute_reply": "2025-10-31T15:35:04.361190Z"
    },
    "papermill": {
     "duration": 0.33104,
     "end_time": "2025-10-31T15:35:04.364522",
     "exception": false,
     "start_time": "2025-10-31T15:35:04.033482",
     "status": "completed"
    },
    "tags": []
   },
   "outputs": [
    {
     "data": {
      "image/png": "[encoded data removed]",
      "text/plain": [
       "<Figure size 640x480 with 1 Axes>"
      ]
     },
     "metadata": {},
     "output_type": "display_data"
    }
   ],
   "source": [
    "import matplotlib.pyplot as plt\n",
    "plt.plot(range(0, model.n_iters, 100), model.cost)\n",
    "plt.xlabel(\"Iterations\")\n",
    "plt.ylabel(\"Cost\")\n",
    "plt.title(\"Cost Reduction over Time\")\n",
    "plt.show()\n"
   ]
  },
  {
   "cell_type": "code",
   "execution_count": null,
   "id": "a9442d7d",
   "metadata": {
    "papermill": {
     "duration": 0.005018,
     "end_time": "2025-10-31T15:35:04.373330",
     "exception": false,
     "start_time": "2025-10-31T15:35:04.368312",
     "status": "completed"
    },
    "tags": []
   },
   "outputs": [],
   "source": []
  }
 ],
 "metadata": {
  "kaggle": {
   "accelerator": "none",
   "dataSources": [
    {
     "datasetId": 228,
     "sourceId": 482,
     "sourceType": "datasetVersion"
    }
   ],
   "dockerImageVersionId": 31153,
   "isGpuEnabled": false,
   "isInternetEnabled": true,
   "language": "python",
   "sourceType": "notebook"
  },
  "kernelspec": {
   "display_name": "Python 3",
   "language": "python",
   "name": "python3"
  },
  "language_info": {
   "codemirror_mode": {
    "name": "ipython",
    "version": 3
   },
   "file_extension": ".py",
   "mimetype": "text/x-python",
   "name": "python",
   "nbconvert_exporter": "python",
   "pygments_lexer": "ipython3",
   "version": "3.11.13"
  },
  "papermill": {
   "default_parameters": {},
   "duration": 15.260254,
   "end_time": "2025-10-31T15:35:05.099417",
   "environment_variables": {},
   "exception": null,
   "input_path": "__notebook__.ipynb",
   "output_path": "__notebook__.ipynb",
   "parameters": {},
   "start_time": "2025-10-31T15:34:49.839163",
   "version": "2.6.0"
  }
 },
 "nbformat": 4,
 "nbformat_minor": 5
}
