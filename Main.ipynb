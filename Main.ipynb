{
 "cells": [
  {
   "cell_type": "code",
   "execution_count": 1,
   "id": "b99850ba",
   "metadata": {
    "_cell_guid": "b1076dfc-b9ad-4769-8c92-a6c4dae69d19",
    "_uuid": "8f2839f25d086af736a60e9eeb907d3b93b6e0e5",
    "execution": {
     "iopub.execute_input": "2025-10-31T16:00:43.657128Z",
     "iopub.status.busy": "2025-10-31T16:00:43.656782Z",
     "iopub.status.idle": "2025-10-31T16:00:45.932249Z",
     "shell.execute_reply": "2025-10-31T16:00:45.931062Z"
    },
    "papermill": {
     "duration": 2.284705,
     "end_time": "2025-10-31T16:00:45.934126",
     "exception": false,
     "start_time": "2025-10-31T16:00:43.649421",
     "status": "completed"
    },
    "tags": []
   },
   "outputs": [
    {
     "name": "stdout",
     "output_type": "stream",
     "text": [
      "/kaggle/input/pima-indians-diabetes-database/diabetes.csv\n"
     ]
    }
   ],
   "source": [
    "# This Python 3 environment comes with many helpful analytics libraries installed\n",
    "# It is defined by the kaggle/python Docker image: https://github.com/kaggle/docker-python\n",
    "# For example, here's several helpful packages to load\n",
    "\n",
    "import numpy as np # linear algebra\n",
    "import pandas as pd # data processing, CSV file I/O (e.g. pd.read_csv)\n",
    "\n",
    "# Input data files are available in the read-only \"../input/\" directory\n",
    "# For example, running this (by clicking run or pressing Shift+Enter) will list all files under the input directory\n",
    "\n",
    "import os\n",
    "for dirname, _, filenames in os.walk('/kaggle/input/pima-indians-diabetes-database'):\n",
    "    for filename in filenames:\n",
    "        print(os.path.join(dirname, filename))\n",
    "\n",
    "# You can write up to 20GB to the current directory (/kaggle/working/) that gets preserved as output when you create a version using \"Save & Run All\" \n",
    "# You can also write temporary files to /kaggle/temp/, but they won't be saved outside of the current session"
   ]
  },
  {
   "cell_type": "code",
   "execution_count": 2,
   "id": "8044c244",
   "metadata": {
    "execution": {
     "iopub.execute_input": "2025-10-31T16:00:45.942718Z",
     "iopub.status.busy": "2025-10-31T16:00:45.942251Z",
     "iopub.status.idle": "2025-10-31T16:00:45.969213Z",
     "shell.execute_reply": "2025-10-31T16:00:45.967795Z"
    },
    "papermill": {
     "duration": 0.033341,
     "end_time": "2025-10-31T16:00:45.971282",
     "exception": false,
     "start_time": "2025-10-31T16:00:45.937941",
     "status": "completed"
    },
    "tags": []
   },
   "outputs": [],
   "source": [
    "dataset = pd.read_csv('/kaggle/input/pima-indians-diabetes-database/diabetes.csv')"
   ]
  },
  {
   "cell_type": "code",
   "execution_count": 3,
   "id": "e3550419",
   "metadata": {
    "execution": {
     "iopub.execute_input": "2025-10-31T16:00:45.979885Z",
     "iopub.status.busy": "2025-10-31T16:00:45.979533Z",
     "iopub.status.idle": "2025-10-31T16:00:46.014778Z",
     "shell.execute_reply": "2025-10-31T16:00:46.013149Z"
    },
    "papermill": {
     "duration": 0.042233,
     "end_time": "2025-10-31T16:00:46.017175",
     "exception": false,
     "start_time": "2025-10-31T16:00:45.974942",
     "status": "completed"
    },
    "tags": []
   },
   "outputs": [
    {
     "name": "stdout",
     "output_type": "stream",
     "text": [
      "<class 'pandas.core.frame.DataFrame'>\n",
      "RangeIndex: 768 entries, 0 to 767\n",
      "Data columns (total 9 columns):\n",
      " #   Column                    Non-Null Count  Dtype  \n",
      "---  ------                    --------------  -----  \n",
      " 0   Pregnancies               768 non-null    int64  \n",
      " 1   Glucose                   768 non-null    int64  \n",
      " 2   BloodPressure             768 non-null    int64  \n",
      " 3   SkinThickness             768 non-null    int64  \n",
      " 4   Insulin                   768 non-null    int64  \n",
      " 5   BMI                       768 non-null    float64\n",
      " 6   DiabetesPedigreeFunction  768 non-null    float64\n",
      " 7   Age                       768 non-null    int64  \n",
      " 8   Outcome                   768 non-null    int64  \n",
      "dtypes: float64(2), int64(7)\n",
      "memory usage: 54.1 KB\n"
     ]
    }
   ],
   "source": [
    "dataset.info()"
   ]
  },
  {
   "cell_type": "code",
   "execution_count": 4,
   "id": "2662e602",
   "metadata": {
    "execution": {
     "iopub.execute_input": "2025-10-31T16:00:46.025530Z",
     "iopub.status.busy": "2025-10-31T16:00:46.025174Z",
     "iopub.status.idle": "2025-10-31T16:00:48.730403Z",
     "shell.execute_reply": "2025-10-31T16:00:48.729245Z"
    },
    "papermill": {
     "duration": 2.711706,
     "end_time": "2025-10-31T16:00:48.732493",
     "exception": false,
     "start_time": "2025-10-31T16:00:46.020787",
     "status": "completed"
    },
    "tags": []
   },
   "outputs": [
    {
     "data": {
      "text/plain": [
       "((537, 8), (537,), (231, 8), (231,))"
      ]
     },
     "execution_count": 4,
     "metadata": {},
     "output_type": "execute_result"
    }
   ],
   "source": [
    "from sklearn.model_selection import train_test_split\n",
    "X = dataset.drop('Outcome', axis=1)\n",
    "Y= dataset['Outcome']\n",
    "X , X_test , Y, Y_test = train_test_split(X , Y,test_size=0.3, random_state=42)\n",
    "X.shape , Y.shape , X_test.shape , Y_test.shape"
   ]
  },
  {
   "cell_type": "markdown",
   "id": "23b3525f",
   "metadata": {
    "papermill": {
     "duration": 0.004541,
     "end_time": "2025-10-31T16:00:48.741418",
     "exception": false,
     "start_time": "2025-10-31T16:00:48.736877",
     "status": "completed"
    },
    "tags": []
   },
   "source": [
    "**FEATURE SCALING**"
   ]
  },
  {
   "cell_type": "code",
   "execution_count": 5,
   "id": "1ba7af41",
   "metadata": {
    "execution": {
     "iopub.execute_input": "2025-10-31T16:00:48.754095Z",
     "iopub.status.busy": "2025-10-31T16:00:48.753334Z",
     "iopub.status.idle": "2025-10-31T16:00:48.781888Z",
     "shell.execute_reply": "2025-10-31T16:00:48.779695Z"
    },
    "papermill": {
     "duration": 0.037576,
     "end_time": "2025-10-31T16:00:48.784689",
     "exception": false,
     "start_time": "2025-10-31T16:00:48.747113",
     "status": "completed"
    },
    "tags": []
   },
   "outputs": [
    {
     "name": "stdout",
     "output_type": "stream",
     "text": [
      "Pregnancies                 6.615854e-17\n",
      "Glucose                     2.083994e-16\n",
      "BloodPressure               1.885518e-16\n",
      "SkinThickness               7.277440e-17\n",
      "Insulin                    -4.631098e-17\n",
      "BMI                        -5.524238e-16\n",
      "DiabetesPedigreeFunction   -9.923781e-17\n",
      "Age                        -2.480945e-16\n",
      "dtype: float64\n",
      "Pregnancies                 1.0\n",
      "Glucose                     1.0\n",
      "BloodPressure               1.0\n",
      "SkinThickness               1.0\n",
      "Insulin                     1.0\n",
      "BMI                         1.0\n",
      "DiabetesPedigreeFunction    1.0\n",
      "Age                         1.0\n",
      "dtype: float64\n",
      "Pregnancies                 0.121155\n",
      "Glucose                     0.004669\n",
      "BloodPressure              -0.106636\n",
      "SkinThickness               0.022434\n",
      "Insulin                    -0.001059\n",
      "BMI                         0.007408\n",
      "DiabetesPedigreeFunction    0.019031\n",
      "Age                         0.047387\n",
      "dtype: float64\n",
      "Pregnancies                 1.101151\n",
      "Glucose                     0.962703\n",
      "BloodPressure               1.214041\n",
      "SkinThickness               1.096666\n",
      "Insulin                     1.002295\n",
      "BMI                         1.110075\n",
      "DiabetesPedigreeFunction    0.891998\n",
      "Age                         1.021315\n",
      "dtype: float64\n"
     ]
    }
   ],
   "source": [
    "mean = np.mean(X, axis=0)\n",
    "std = np.std(X, axis=0)\n",
    "std[std == 0] = 1\n",
    "X_scaled = (X - mean) / std\n",
    "X_test_scaled = (X_test - mean) / std\n",
    "print(np.mean(X_scaled, axis=0))   # should be near 0\n",
    "print(np.std(X_scaled, axis=0))    # should be near 1\n",
    "print(np.mean(X_test_scaled, axis=0))   # should also be close to 0\n",
    "print(np.std(X_test_scaled, axis=0))    # close to 1, but not exactly\n"
   ]
  },
  {
   "cell_type": "markdown",
   "id": "8bbc8ec2",
   "metadata": {
    "papermill": {
     "duration": 0.004578,
     "end_time": "2025-10-31T16:00:48.793535",
     "exception": false,
     "start_time": "2025-10-31T16:00:48.788957",
     "status": "completed"
    },
    "tags": []
   },
   "source": [
    "**Initialize Parameters**"
   ]
  },
  {
   "cell_type": "code",
   "execution_count": 6,
   "id": "20954a4c",
   "metadata": {
    "execution": {
     "iopub.execute_input": "2025-10-31T16:00:48.805246Z",
     "iopub.status.busy": "2025-10-31T16:00:48.804803Z",
     "iopub.status.idle": "2025-10-31T16:00:48.812065Z",
     "shell.execute_reply": "2025-10-31T16:00:48.810223Z"
    },
    "papermill": {
     "duration": 0.015905,
     "end_time": "2025-10-31T16:00:48.814091",
     "exception": false,
     "start_time": "2025-10-31T16:00:48.798186",
     "status": "completed"
    },
    "tags": []
   },
   "outputs": [
    {
     "name": "stdout",
     "output_type": "stream",
     "text": [
      "8\n"
     ]
    }
   ],
   "source": [
    "n_samples, n_features= X.shape\n",
    "print(n_features)\n",
    "w = np.zeros((n_features, 1))\n",
    "b = 0"
   ]
  },
  {
   "cell_type": "markdown",
   "id": "7a70a7dc",
   "metadata": {
    "papermill": {
     "duration": 0.004363,
     "end_time": "2025-10-31T16:00:48.822862",
     "exception": false,
     "start_time": "2025-10-31T16:00:48.818499",
     "status": "completed"
    },
    "tags": []
   },
   "source": [
    "**SIGMOID FUNCTION ( 0,1 RANGER )**"
   ]
  },
  {
   "cell_type": "code",
   "execution_count": 7,
   "id": "93f85c1a",
   "metadata": {
    "execution": {
     "iopub.execute_input": "2025-10-31T16:00:48.840085Z",
     "iopub.status.busy": "2025-10-31T16:00:48.837359Z",
     "iopub.status.idle": "2025-10-31T16:00:48.856131Z",
     "shell.execute_reply": "2025-10-31T16:00:48.854562Z"
    },
    "papermill": {
     "duration": 0.030959,
     "end_time": "2025-10-31T16:00:48.858221",
     "exception": false,
     "start_time": "2025-10-31T16:00:48.827262",
     "status": "completed"
    },
    "tags": []
   },
   "outputs": [],
   "source": [
    "import numpy as np\n",
    "\n",
    "class LogisticRegression:    \n",
    "    def __init__(self, learning_rate=0.05, n_iterations=5000, lambda_=0.1, threshold=0.45):\n",
    "        self.lr = learning_rate\n",
    "        self.n_iters = n_iterations\n",
    "        self.lambda_ = lambda_\n",
    "        self.threshold = threshold\n",
    "        self.W = None\n",
    "        self.b = None\n",
    "        self.cost = []\n",
    "    def _sigmoid(self, z):\n",
    "        z = np.clip(z, -500, 500)   # prevents overflow\n",
    "        return 1 / (1 + np.exp(-z))\n",
    "\n",
    "    def fit(self, X, Y):\n",
    "        Y = Y.reshape(-1, 1)\n",
    "        n_samples, n_features = X.shape\n",
    "        self.W = np.random.randn(n_features, 1) * 0.01\n",
    "        self.b = np.random.randn() * 0.01\n",
    "        for i in range(self.n_iters):\n",
    "            Z = np.dot(X, self.W) + self.b\n",
    "            y_hat = self._sigmoid(Z)\n",
    "            dZ = y_hat - Y\n",
    "            dW = (1/n_samples) * (np.dot(X.T, dZ) + self.lambda_ * self.W)\n",
    "            db = (1/n_samples) * np.sum(dZ)\n",
    "            self.W = self.W - self.lr * dW\n",
    "            self.b = self.b - self.lr * db\n",
    "            if i % 100 == 0:\n",
    "                y_hat_safe = np.clip(y_hat, 1e-10, 1 - 1e-10) \n",
    "                cost = (-1/n_samples) * np.sum(Y * np.log(y_hat_safe) + (1 - Y) * np.log(1 - y_hat_safe)) \\\n",
    "                       + (self.lambda_ / (2 * n_samples)) * np.sum(self.W**2)\n",
    "                self.cost.append(cost)\n",
    "\n",
    "    def predict(self, X):\n",
    "        Z = np.dot(X, self.W) + self.b\n",
    "        probabilities = self._sigmoid(Z)\n",
    "        y_predicted_cls = np.where(probabilities >= self.threshold, 1, 0)\n",
    "        return y_predicted_cls.flatten()"
   ]
  },
  {
   "cell_type": "code",
   "execution_count": 8,
   "id": "9e582f44",
   "metadata": {
    "execution": {
     "iopub.execute_input": "2025-10-31T16:00:48.867319Z",
     "iopub.status.busy": "2025-10-31T16:00:48.866946Z",
     "iopub.status.idle": "2025-10-31T16:00:52.712214Z",
     "shell.execute_reply": "2025-10-31T16:00:52.710900Z"
    },
    "papermill": {
     "duration": 3.852227,
     "end_time": "2025-10-31T16:00:52.714241",
     "exception": false,
     "start_time": "2025-10-31T16:00:48.862014",
     "status": "completed"
    },
    "tags": []
   },
   "outputs": [
    {
     "name": "stdout",
     "output_type": "stream",
     "text": [
      "Accuracy: 73.59%\n"
     ]
    }
   ],
   "source": [
    "Y = Y.values\n",
    "Y_test = Y_test.values\n",
    "model = LogisticRegression(learning_rate=0.05, n_iterations=8000, lambda_=0.01, threshold=0.5)\n",
    "model.fit(X_scaled, Y)\n",
    "y_pred = model.predict(X_test_scaled)\n",
    "accuracy = np.mean(y_pred == Y_test) * 100\n",
    "print(f\"Accuracy: {accuracy:.2f}%\")"
   ]
  },
  {
   "cell_type": "code",
   "execution_count": 9,
   "id": "8a37a608",
   "metadata": {
    "execution": {
     "iopub.execute_input": "2025-10-31T16:00:52.723184Z",
     "iopub.status.busy": "2025-10-31T16:00:52.722845Z",
     "iopub.status.idle": "2025-10-31T16:00:53.035356Z",
     "shell.execute_reply": "2025-10-31T16:00:53.033585Z"
    },
    "papermill": {
     "duration": 0.319787,
     "end_time": "2025-10-31T16:00:53.037881",
     "exception": false,
     "start_time": "2025-10-31T16:00:52.718094",
     "status": "completed"
    },
    "tags": []
   },
   "outputs": [
    {
     "data": {
      "image/png": "[encoded data removed]",
      "text/plain": [
       "<Figure size 640x480 with 1 Axes>"
      ]
     },
     "metadata": {},
     "output_type": "display_data"
    }
   ],
   "source": [
    "import matplotlib.pyplot as plt\n",
    "plt.plot(range(0, model.n_iters, 100), model.cost)\n",
    "plt.xlabel(\"Iterations\")\n",
    "plt.ylabel(\"Cost\")\n",
    "plt.title(\"Cost Reduction over Time\")\n",
    "plt.show()\n"
   ]
  },
  {
   "cell_type": "markdown",
   "id": "9270b855",
   "metadata": {
    "papermill": {
     "duration": 0.004891,
     "end_time": "2025-10-31T16:00:53.048111",
     "exception": false,
     "start_time": "2025-10-31T16:00:53.043220",
     "status": "completed"
    },
    "tags": []
   },
   "source": [
    "**COMPARING MY MODEL TO SICKIT LEARN MODEL**"
   ]
  },
  {
   "cell_type": "code",
   "execution_count": 10,
   "id": "c034f498",
   "metadata": {
    "execution": {
     "iopub.execute_input": "2025-10-31T16:00:53.059377Z",
     "iopub.status.busy": "2025-10-31T16:00:53.058997Z",
     "iopub.status.idle": "2025-10-31T16:00:57.327329Z",
     "shell.execute_reply": "2025-10-31T16:00:57.326424Z"
    },
    "papermill": {
     "duration": 4.276632,
     "end_time": "2025-10-31T16:00:57.329240",
     "exception": false,
     "start_time": "2025-10-31T16:00:53.052608",
     "status": "completed"
    },
    "tags": []
   },
   "outputs": [
    {
     "name": "stdout",
     "output_type": "stream",
     "text": [
      "===== Model Accuracy Comparison =====\n",
      "Custom Logistic Regression Accuracy:   73.59%\n",
      "Scikit-learn Logistic Regression Accuracy: 73.59%\n",
      "TIED , good work!!\n"
     ]
    }
   ],
   "source": [
    "# ================================\n",
    "# Compare Custom vs Sklearn Model\n",
    "# ================================\n",
    "\n",
    "from sklearn.linear_model import LogisticRegression as SkLogisticRegression\n",
    "from sklearn.metrics import accuracy_score\n",
    "\n",
    "# --- Your Model ---\n",
    "model = LogisticRegression(learning_rate=0.05, n_iterations=8000, lambda_=0.01, threshold=0.5)\n",
    "model.fit(X_scaled, Y)\n",
    "y_pred_custom = model.predict(X_test_scaled)\n",
    "custom_acc = accuracy_score(Y_test, y_pred_custom) * 100\n",
    "\n",
    "# --- Sklearn Model ---\n",
    "sk_model = SkLogisticRegression(max_iter=5000)\n",
    "sk_model.fit(X_scaled, Y)\n",
    "y_pred_sklearn = sk_model.predict(X_test_scaled)\n",
    "sklearn_acc = accuracy_score(Y_test, y_pred_sklearn) * 100\n",
    "\n",
    "# --- Compare ---\n",
    "print(\"===== Model Accuracy Comparison =====\")\n",
    "print(f\"Custom Logistic Regression Accuracy:   {custom_acc:.2f}%\")\n",
    "print(f\"Scikit-learn Logistic Regression Accuracy: {sklearn_acc:.2f}%\")\n",
    "\n",
    "if custom_acc > sklearn_acc:\n",
    "    print(\"\\n✅ Your custom model outperformed sklearn!\")\n",
    "elif custom_acc > sklearn_acc:\n",
    "    print(\"\\n🤖 Sklearn model performed better (as expected).\")\n",
    "else : \n",
    "    print(\"TIED , good work!!\")\n"
   ]
  },
  {
   "cell_type": "code",
   "execution_count": null,
   "id": "3dd1e8b9",
   "metadata": {
    "papermill": {
     "duration": 0.007214,
     "end_time": "2025-10-31T16:00:57.346733",
     "exception": false,
     "start_time": "2025-10-31T16:00:57.339519",
     "status": "completed"
    },
    "tags": []
   },
   "outputs": [],
   "source": []
  }
 ],
 "metadata": {
  "kaggle": {
   "accelerator": "none",
   "dataSources": [
    {
     "datasetId": 228,
     "sourceId": 482,
     "sourceType": "datasetVersion"
    }
   ],
   "dockerImageVersionId": 31153,
   "isGpuEnabled": false,
   "isInternetEnabled": true,
   "language": "python",
   "sourceType": "notebook"
  },
  "kernelspec": {
   "display_name": "Python 3",
   "language": "python",
   "name": "python3"
  },
  "language_info": {
   "codemirror_mode": {
    "name": "ipython",
    "version": 3
   },
   "file_extension": ".py",
   "mimetype": "text/x-python",
   "name": "python",
   "nbconvert_exporter": "python",
   "pygments_lexer": "ipython3",
   "version": "3.11.13"
  },
  "papermill": {
   "default_parameters": {},
   "duration": 20.69944,
   "end_time": "2025-10-31T16:00:58.179808",
   "environment_variables": {},
   "exception": null,
   "input_path": "__notebook__.ipynb",
   "output_path": "__notebook__.ipynb",
   "parameters": {},
   "start_time": "2025-10-31T16:00:37.480368",
   "version": "2.6.0"
  }
 },
 "nbformat": 4,
 "nbformat_minor": 5
}
